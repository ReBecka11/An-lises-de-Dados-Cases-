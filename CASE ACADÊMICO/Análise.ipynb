{
  "nbformat": 4,
  "nbformat_minor": 0,
  "metadata": {
    "colab": {
      "provenance": []
    },
    "kernelspec": {
      "name": "python3",
      "display_name": "Python 3"
    },
    "language_info": {
      "name": "python"
    }
  },
  "cells": [
    {
      "cell_type": "markdown",
      "source": [
        "####**ANÁLISE DE DADOS SOBRE INGRESSO DE MULHERES NO ENSINO SUPERIOR NO CURSO DE CIÊNCIAS DE DADOS**"
      ],
      "metadata": {
        "id": "NBfAALWDzLEJ"
      }
    },
    {
      "cell_type": "markdown",
      "source": [
        "***COLETA DOS DADOS***\n",
        "\n",
        "**Importando as bases de dados, unificando as bases e vizualizando somente as variáveis (colunas) pertinentes para a análise**"
      ],
      "metadata": {
        "id": "XasfRY18zfWh"
      }
    },
    {
      "cell_type": "code",
      "source": [
        "import pandas as pd\n",
        "\n",
        "base2020 = pd.read_csv('/content/drive/MyDrive/Colab Notebooks/MICRODADOS CADASTRO CURSOS 2020.CSV', sep=';', encoding='latin1', usecols=['NU_ANO_CENSO', 'NO_REGIAO', 'NO_CURSO', 'QT_ING_FEM','QT_ING_MASC'])\n",
        "base2021 = pd.read_csv('/content/drive/MyDrive/Colab Notebooks/MICRODADOS CADASTRO CURSOS 2021.CSV', sep=';', encoding='latin1', usecols=['NU_ANO_CENSO','NO_REGIAO', 'NO_CURSO', 'QT_ING_FEM','QT_ING_MASC'])\n",
        "analise = pd.concat([base2020,base2021])\n",
        "\n",
        "display(analise)"
      ],
      "metadata": {
        "colab": {
          "base_uri": "https://localhost:8080/",
          "height": 493
        },
        "id": "EUHEpscHQwDP",
        "outputId": "6cc479d0-3c71-43e3-b59a-bd18aa790af5"
      },
      "execution_count": null,
      "outputs": [
        {
          "output_type": "stream",
          "name": "stderr",
          "text": [
            "/usr/local/lib/python3.8/dist-packages/IPython/core/interactiveshell.py:3326: DtypeWarning:\n",
            "\n",
            "Columns (1) have mixed types.Specify dtype option on import or set low_memory=False.\n",
            "\n"
          ]
        },
        {
          "output_type": "display_data",
          "data": {
            "text/plain": [
              "        NU_ANO_CENSO NO_REGIAO                        NO_CURSO  QT_ING_FEM  \\\n",
              "0               2020       NaN           ADMINISTRAÇÃO PÚBLICA           0   \n",
              "1               2020       NaN  CIÊNCIAS NATURAIS E MATEMÁTICA           0   \n",
              "2               2020       NaN                      MATEMÁTICA           0   \n",
              "3               2020       NaN                       PEDAGOGIA           0   \n",
              "4               2020       NaN          TECNOLOGIA EDUCACIONAL           0   \n",
              "...              ...       ...                             ...         ...   \n",
              "444781          2021       Sul                  Gestão Pública           0   \n",
              "444782          2021       Sul      Letras - Língua Portuguesa           0   \n",
              "444783          2021       Sul                      Matemática           0   \n",
              "444784          2021       Sul                          Música           0   \n",
              "444785          2021       Sul                       Pedagogia           8   \n",
              "\n",
              "        QT_ING_MASC  \n",
              "0                 0  \n",
              "1                 0  \n",
              "2                 0  \n",
              "3                 0  \n",
              "4                 0  \n",
              "...             ...  \n",
              "444781            0  \n",
              "444782            0  \n",
              "444783            1  \n",
              "444784            0  \n",
              "444785            0  \n",
              "\n",
              "[789477 rows x 5 columns]"
            ],
            "text/html": [
              "\n",
              "  <div id=\"df-e7d5f689-66e6-4325-a47d-bec9117cbf4e\">\n",
              "    <div class=\"colab-df-container\">\n",
              "      <div>\n",
              "<style scoped>\n",
              "    .dataframe tbody tr th:only-of-type {\n",
              "        vertical-align: middle;\n",
              "    }\n",
              "\n",
              "    .dataframe tbody tr th {\n",
              "        vertical-align: top;\n",
              "    }\n",
              "\n",
              "    .dataframe thead th {\n",
              "        text-align: right;\n",
              "    }\n",
              "</style>\n",
              "<table border=\"1\" class=\"dataframe\">\n",
              "  <thead>\n",
              "    <tr style=\"text-align: right;\">\n",
              "      <th></th>\n",
              "      <th>NU_ANO_CENSO</th>\n",
              "      <th>NO_REGIAO</th>\n",
              "      <th>NO_CURSO</th>\n",
              "      <th>QT_ING_FEM</th>\n",
              "      <th>QT_ING_MASC</th>\n",
              "    </tr>\n",
              "  </thead>\n",
              "  <tbody>\n",
              "    <tr>\n",
              "      <th>0</th>\n",
              "      <td>2020</td>\n",
              "      <td>NaN</td>\n",
              "      <td>ADMINISTRAÇÃO PÚBLICA</td>\n",
              "      <td>0</td>\n",
              "      <td>0</td>\n",
              "    </tr>\n",
              "    <tr>\n",
              "      <th>1</th>\n",
              "      <td>2020</td>\n",
              "      <td>NaN</td>\n",
              "      <td>CIÊNCIAS NATURAIS E MATEMÁTICA</td>\n",
              "      <td>0</td>\n",
              "      <td>0</td>\n",
              "    </tr>\n",
              "    <tr>\n",
              "      <th>2</th>\n",
              "      <td>2020</td>\n",
              "      <td>NaN</td>\n",
              "      <td>MATEMÁTICA</td>\n",
              "      <td>0</td>\n",
              "      <td>0</td>\n",
              "    </tr>\n",
              "    <tr>\n",
              "      <th>3</th>\n",
              "      <td>2020</td>\n",
              "      <td>NaN</td>\n",
              "      <td>PEDAGOGIA</td>\n",
              "      <td>0</td>\n",
              "      <td>0</td>\n",
              "    </tr>\n",
              "    <tr>\n",
              "      <th>4</th>\n",
              "      <td>2020</td>\n",
              "      <td>NaN</td>\n",
              "      <td>TECNOLOGIA EDUCACIONAL</td>\n",
              "      <td>0</td>\n",
              "      <td>0</td>\n",
              "    </tr>\n",
              "    <tr>\n",
              "      <th>...</th>\n",
              "      <td>...</td>\n",
              "      <td>...</td>\n",
              "      <td>...</td>\n",
              "      <td>...</td>\n",
              "      <td>...</td>\n",
              "    </tr>\n",
              "    <tr>\n",
              "      <th>444781</th>\n",
              "      <td>2021</td>\n",
              "      <td>Sul</td>\n",
              "      <td>Gestão Pública</td>\n",
              "      <td>0</td>\n",
              "      <td>0</td>\n",
              "    </tr>\n",
              "    <tr>\n",
              "      <th>444782</th>\n",
              "      <td>2021</td>\n",
              "      <td>Sul</td>\n",
              "      <td>Letras - Língua Portuguesa</td>\n",
              "      <td>0</td>\n",
              "      <td>0</td>\n",
              "    </tr>\n",
              "    <tr>\n",
              "      <th>444783</th>\n",
              "      <td>2021</td>\n",
              "      <td>Sul</td>\n",
              "      <td>Matemática</td>\n",
              "      <td>0</td>\n",
              "      <td>1</td>\n",
              "    </tr>\n",
              "    <tr>\n",
              "      <th>444784</th>\n",
              "      <td>2021</td>\n",
              "      <td>Sul</td>\n",
              "      <td>Música</td>\n",
              "      <td>0</td>\n",
              "      <td>0</td>\n",
              "    </tr>\n",
              "    <tr>\n",
              "      <th>444785</th>\n",
              "      <td>2021</td>\n",
              "      <td>Sul</td>\n",
              "      <td>Pedagogia</td>\n",
              "      <td>8</td>\n",
              "      <td>0</td>\n",
              "    </tr>\n",
              "  </tbody>\n",
              "</table>\n",
              "<p>789477 rows × 5 columns</p>\n",
              "</div>\n",
              "      <button class=\"colab-df-convert\" onclick=\"convertToInteractive('df-e7d5f689-66e6-4325-a47d-bec9117cbf4e')\"\n",
              "              title=\"Convert this dataframe to an interactive table.\"\n",
              "              style=\"display:none;\">\n",
              "        \n",
              "  <svg xmlns=\"http://www.w3.org/2000/svg\" height=\"24px\"viewBox=\"0 0 24 24\"\n",
              "       width=\"24px\">\n",
              "    <path d=\"M0 0h24v24H0V0z\" fill=\"none\"/>\n",
              "    <path d=\"M18.56 5.44l.94 2.06.94-2.06 2.06-.94-2.06-.94-.94-2.06-.94 2.06-2.06.94zm-11 1L8.5 8.5l.94-2.06 2.06-.94-2.06-.94L8.5 2.5l-.94 2.06-2.06.94zm10 10l.94 2.06.94-2.06 2.06-.94-2.06-.94-.94-2.06-.94 2.06-2.06.94z\"/><path d=\"M17.41 7.96l-1.37-1.37c-.4-.4-.92-.59-1.43-.59-.52 0-1.04.2-1.43.59L10.3 9.45l-7.72 7.72c-.78.78-.78 2.05 0 2.83L4 21.41c.39.39.9.59 1.41.59.51 0 1.02-.2 1.41-.59l7.78-7.78 2.81-2.81c.8-.78.8-2.07 0-2.86zM5.41 20L4 18.59l7.72-7.72 1.47 1.35L5.41 20z\"/>\n",
              "  </svg>\n",
              "      </button>\n",
              "      \n",
              "  <style>\n",
              "    .colab-df-container {\n",
              "      display:flex;\n",
              "      flex-wrap:wrap;\n",
              "      gap: 12px;\n",
              "    }\n",
              "\n",
              "    .colab-df-convert {\n",
              "      background-color: #E8F0FE;\n",
              "      border: none;\n",
              "      border-radius: 50%;\n",
              "      cursor: pointer;\n",
              "      display: none;\n",
              "      fill: #1967D2;\n",
              "      height: 32px;\n",
              "      padding: 0 0 0 0;\n",
              "      width: 32px;\n",
              "    }\n",
              "\n",
              "    .colab-df-convert:hover {\n",
              "      background-color: #E2EBFA;\n",
              "      box-shadow: 0px 1px 2px rgba(60, 64, 67, 0.3), 0px 1px 3px 1px rgba(60, 64, 67, 0.15);\n",
              "      fill: #174EA6;\n",
              "    }\n",
              "\n",
              "    [theme=dark] .colab-df-convert {\n",
              "      background-color: #3B4455;\n",
              "      fill: #D2E3FC;\n",
              "    }\n",
              "\n",
              "    [theme=dark] .colab-df-convert:hover {\n",
              "      background-color: #434B5C;\n",
              "      box-shadow: 0px 1px 3px 1px rgba(0, 0, 0, 0.15);\n",
              "      filter: drop-shadow(0px 1px 2px rgba(0, 0, 0, 0.3));\n",
              "      fill: #FFFFFF;\n",
              "    }\n",
              "  </style>\n",
              "\n",
              "      <script>\n",
              "        const buttonEl =\n",
              "          document.querySelector('#df-e7d5f689-66e6-4325-a47d-bec9117cbf4e button.colab-df-convert');\n",
              "        buttonEl.style.display =\n",
              "          google.colab.kernel.accessAllowed ? 'block' : 'none';\n",
              "\n",
              "        async function convertToInteractive(key) {\n",
              "          const element = document.querySelector('#df-e7d5f689-66e6-4325-a47d-bec9117cbf4e');\n",
              "          const dataTable =\n",
              "            await google.colab.kernel.invokeFunction('convertToInteractive',\n",
              "                                                     [key], {});\n",
              "          if (!dataTable) return;\n",
              "\n",
              "          const docLinkHtml = 'Like what you see? Visit the ' +\n",
              "            '<a target=\"_blank\" href=https://colab.research.google.com/notebooks/data_table.ipynb>data table notebook</a>'\n",
              "            + ' to learn more about interactive tables.';\n",
              "          element.innerHTML = '';\n",
              "          dataTable['output_type'] = 'display_data';\n",
              "          await google.colab.output.renderOutput(dataTable, element);\n",
              "          const docLink = document.createElement('div');\n",
              "          docLink.innerHTML = docLinkHtml;\n",
              "          element.appendChild(docLink);\n",
              "        }\n",
              "      </script>\n",
              "    </div>\n",
              "  </div>\n",
              "  "
            ]
          },
          "metadata": {}
        }
      ]
    },
    {
      "cell_type": "markdown",
      "source": [
        "***TRATAMENTO DOS DADOS***\n",
        "\n",
        "**Descartando oberservações (linhas) com valores vazios e aplicando filtro na variável \"No_Curso\" para vizualizar somente o valor \"CIÊNCIA DE DADOS\"**"
      ],
      "metadata": {
        "id": "vFYVWTQrN2Et"
      }
    },
    {
      "cell_type": "code",
      "source": [
        "analise_limpa = analise = analise.dropna()\n",
        "analise_limpa = analise[analise['NO_CURSO'] =='CIÊNCIA DE DADOS']\n",
        "display(analise_limpa)"
      ],
      "metadata": {
        "colab": {
          "base_uri": "https://localhost:8080/",
          "height": 424
        },
        "id": "3Ir4UazhXxQC",
        "outputId": "ad4585c9-1aa3-4502-a724-f608809b7786"
      },
      "execution_count": null,
      "outputs": [
        {
          "output_type": "display_data",
          "data": {
            "text/plain": [
              "        NU_ANO_CENSO     NO_REGIAO          NO_CURSO  QT_ING_FEM  QT_ING_MASC\n",
              "7175            2020  Centro-Oeste  CIÊNCIA DE DADOS           2            3\n",
              "7257            2020  Centro-Oeste  CIÊNCIA DE DADOS          20           46\n",
              "7459            2020  Centro-Oeste  CIÊNCIA DE DADOS           0            4\n",
              "7902            2020  Centro-Oeste  CIÊNCIA DE DADOS           2           15\n",
              "8109            2020  Centro-Oeste  CIÊNCIA DE DADOS           4           18\n",
              "...              ...           ...               ...         ...          ...\n",
              "443231          2021           Sul  CIÊNCIA DE DADOS           0            0\n",
              "443532          2021           Sul  CIÊNCIA DE DADOS           1            2\n",
              "443620          2021           Sul  CIÊNCIA DE DADOS           0            1\n",
              "443825          2021           Sul  CIÊNCIA DE DADOS           0            1\n",
              "444518          2021           Sul  CIÊNCIA DE DADOS           1            1\n",
              "\n",
              "[2742 rows x 5 columns]"
            ],
            "text/html": [
              "\n",
              "  <div id=\"df-0c9fbc2e-c7df-4277-822f-64ab14d79993\">\n",
              "    <div class=\"colab-df-container\">\n",
              "      <div>\n",
              "<style scoped>\n",
              "    .dataframe tbody tr th:only-of-type {\n",
              "        vertical-align: middle;\n",
              "    }\n",
              "\n",
              "    .dataframe tbody tr th {\n",
              "        vertical-align: top;\n",
              "    }\n",
              "\n",
              "    .dataframe thead th {\n",
              "        text-align: right;\n",
              "    }\n",
              "</style>\n",
              "<table border=\"1\" class=\"dataframe\">\n",
              "  <thead>\n",
              "    <tr style=\"text-align: right;\">\n",
              "      <th></th>\n",
              "      <th>NU_ANO_CENSO</th>\n",
              "      <th>NO_REGIAO</th>\n",
              "      <th>NO_CURSO</th>\n",
              "      <th>QT_ING_FEM</th>\n",
              "      <th>QT_ING_MASC</th>\n",
              "    </tr>\n",
              "  </thead>\n",
              "  <tbody>\n",
              "    <tr>\n",
              "      <th>7175</th>\n",
              "      <td>2020</td>\n",
              "      <td>Centro-Oeste</td>\n",
              "      <td>CIÊNCIA DE DADOS</td>\n",
              "      <td>2</td>\n",
              "      <td>3</td>\n",
              "    </tr>\n",
              "    <tr>\n",
              "      <th>7257</th>\n",
              "      <td>2020</td>\n",
              "      <td>Centro-Oeste</td>\n",
              "      <td>CIÊNCIA DE DADOS</td>\n",
              "      <td>20</td>\n",
              "      <td>46</td>\n",
              "    </tr>\n",
              "    <tr>\n",
              "      <th>7459</th>\n",
              "      <td>2020</td>\n",
              "      <td>Centro-Oeste</td>\n",
              "      <td>CIÊNCIA DE DADOS</td>\n",
              "      <td>0</td>\n",
              "      <td>4</td>\n",
              "    </tr>\n",
              "    <tr>\n",
              "      <th>7902</th>\n",
              "      <td>2020</td>\n",
              "      <td>Centro-Oeste</td>\n",
              "      <td>CIÊNCIA DE DADOS</td>\n",
              "      <td>2</td>\n",
              "      <td>15</td>\n",
              "    </tr>\n",
              "    <tr>\n",
              "      <th>8109</th>\n",
              "      <td>2020</td>\n",
              "      <td>Centro-Oeste</td>\n",
              "      <td>CIÊNCIA DE DADOS</td>\n",
              "      <td>4</td>\n",
              "      <td>18</td>\n",
              "    </tr>\n",
              "    <tr>\n",
              "      <th>...</th>\n",
              "      <td>...</td>\n",
              "      <td>...</td>\n",
              "      <td>...</td>\n",
              "      <td>...</td>\n",
              "      <td>...</td>\n",
              "    </tr>\n",
              "    <tr>\n",
              "      <th>443231</th>\n",
              "      <td>2021</td>\n",
              "      <td>Sul</td>\n",
              "      <td>CIÊNCIA DE DADOS</td>\n",
              "      <td>0</td>\n",
              "      <td>0</td>\n",
              "    </tr>\n",
              "    <tr>\n",
              "      <th>443532</th>\n",
              "      <td>2021</td>\n",
              "      <td>Sul</td>\n",
              "      <td>CIÊNCIA DE DADOS</td>\n",
              "      <td>1</td>\n",
              "      <td>2</td>\n",
              "    </tr>\n",
              "    <tr>\n",
              "      <th>443620</th>\n",
              "      <td>2021</td>\n",
              "      <td>Sul</td>\n",
              "      <td>CIÊNCIA DE DADOS</td>\n",
              "      <td>0</td>\n",
              "      <td>1</td>\n",
              "    </tr>\n",
              "    <tr>\n",
              "      <th>443825</th>\n",
              "      <td>2021</td>\n",
              "      <td>Sul</td>\n",
              "      <td>CIÊNCIA DE DADOS</td>\n",
              "      <td>0</td>\n",
              "      <td>1</td>\n",
              "    </tr>\n",
              "    <tr>\n",
              "      <th>444518</th>\n",
              "      <td>2021</td>\n",
              "      <td>Sul</td>\n",
              "      <td>CIÊNCIA DE DADOS</td>\n",
              "      <td>1</td>\n",
              "      <td>1</td>\n",
              "    </tr>\n",
              "  </tbody>\n",
              "</table>\n",
              "<p>2742 rows × 5 columns</p>\n",
              "</div>\n",
              "      <button class=\"colab-df-convert\" onclick=\"convertToInteractive('df-0c9fbc2e-c7df-4277-822f-64ab14d79993')\"\n",
              "              title=\"Convert this dataframe to an interactive table.\"\n",
              "              style=\"display:none;\">\n",
              "        \n",
              "  <svg xmlns=\"http://www.w3.org/2000/svg\" height=\"24px\"viewBox=\"0 0 24 24\"\n",
              "       width=\"24px\">\n",
              "    <path d=\"M0 0h24v24H0V0z\" fill=\"none\"/>\n",
              "    <path d=\"M18.56 5.44l.94 2.06.94-2.06 2.06-.94-2.06-.94-.94-2.06-.94 2.06-2.06.94zm-11 1L8.5 8.5l.94-2.06 2.06-.94-2.06-.94L8.5 2.5l-.94 2.06-2.06.94zm10 10l.94 2.06.94-2.06 2.06-.94-2.06-.94-.94-2.06-.94 2.06-2.06.94z\"/><path d=\"M17.41 7.96l-1.37-1.37c-.4-.4-.92-.59-1.43-.59-.52 0-1.04.2-1.43.59L10.3 9.45l-7.72 7.72c-.78.78-.78 2.05 0 2.83L4 21.41c.39.39.9.59 1.41.59.51 0 1.02-.2 1.41-.59l7.78-7.78 2.81-2.81c.8-.78.8-2.07 0-2.86zM5.41 20L4 18.59l7.72-7.72 1.47 1.35L5.41 20z\"/>\n",
              "  </svg>\n",
              "      </button>\n",
              "      \n",
              "  <style>\n",
              "    .colab-df-container {\n",
              "      display:flex;\n",
              "      flex-wrap:wrap;\n",
              "      gap: 12px;\n",
              "    }\n",
              "\n",
              "    .colab-df-convert {\n",
              "      background-color: #E8F0FE;\n",
              "      border: none;\n",
              "      border-radius: 50%;\n",
              "      cursor: pointer;\n",
              "      display: none;\n",
              "      fill: #1967D2;\n",
              "      height: 32px;\n",
              "      padding: 0 0 0 0;\n",
              "      width: 32px;\n",
              "    }\n",
              "\n",
              "    .colab-df-convert:hover {\n",
              "      background-color: #E2EBFA;\n",
              "      box-shadow: 0px 1px 2px rgba(60, 64, 67, 0.3), 0px 1px 3px 1px rgba(60, 64, 67, 0.15);\n",
              "      fill: #174EA6;\n",
              "    }\n",
              "\n",
              "    [theme=dark] .colab-df-convert {\n",
              "      background-color: #3B4455;\n",
              "      fill: #D2E3FC;\n",
              "    }\n",
              "\n",
              "    [theme=dark] .colab-df-convert:hover {\n",
              "      background-color: #434B5C;\n",
              "      box-shadow: 0px 1px 3px 1px rgba(0, 0, 0, 0.15);\n",
              "      filter: drop-shadow(0px 1px 2px rgba(0, 0, 0, 0.3));\n",
              "      fill: #FFFFFF;\n",
              "    }\n",
              "  </style>\n",
              "\n",
              "      <script>\n",
              "        const buttonEl =\n",
              "          document.querySelector('#df-0c9fbc2e-c7df-4277-822f-64ab14d79993 button.colab-df-convert');\n",
              "        buttonEl.style.display =\n",
              "          google.colab.kernel.accessAllowed ? 'block' : 'none';\n",
              "\n",
              "        async function convertToInteractive(key) {\n",
              "          const element = document.querySelector('#df-0c9fbc2e-c7df-4277-822f-64ab14d79993');\n",
              "          const dataTable =\n",
              "            await google.colab.kernel.invokeFunction('convertToInteractive',\n",
              "                                                     [key], {});\n",
              "          if (!dataTable) return;\n",
              "\n",
              "          const docLinkHtml = 'Like what you see? Visit the ' +\n",
              "            '<a target=\"_blank\" href=https://colab.research.google.com/notebooks/data_table.ipynb>data table notebook</a>'\n",
              "            + ' to learn more about interactive tables.';\n",
              "          element.innerHTML = '';\n",
              "          dataTable['output_type'] = 'display_data';\n",
              "          await google.colab.output.renderOutput(dataTable, element);\n",
              "          const docLink = document.createElement('div');\n",
              "          docLink.innerHTML = docLinkHtml;\n",
              "          element.appendChild(docLink);\n",
              "        }\n",
              "      </script>\n",
              "    </div>\n",
              "  </div>\n",
              "  "
            ]
          },
          "metadata": {}
        }
      ]
    },
    {
      "cell_type": "markdown",
      "source": [
        "***ANALÍSES DOS DADOS***\n",
        "\n",
        "**I - Constatando a predominância masculina na área ciência de dados. Observando a quantidade e média referente ao ingresso de cada gênero por região**"
      ],
      "metadata": {
        "id": "xaycs8qQVnrp"
      }
    },
    {
      "cell_type": "code",
      "source": [
        "analise_qtda = analise_limpa.groupby('NO_REGIAO')[['QT_ING_FEM','QT_ING_MASC']].agg(['sum', 'mean'])\n",
        "analise_qtda.round(2)"
      ],
      "metadata": {
        "colab": {
          "base_uri": "https://localhost:8080/",
          "height": 269
        },
        "id": "xVbPPfByQ-9f",
        "outputId": "58303d8a-b936-4545-8f74-1200a8ac6141"
      },
      "execution_count": null,
      "outputs": [
        {
          "output_type": "execute_result",
          "data": {
            "text/plain": [
              "             QT_ING_FEM       QT_ING_MASC      \n",
              "                    sum  mean         sum  mean\n",
              "NO_REGIAO                                      \n",
              "Centro-Oeste        148  0.99         490  3.29\n",
              "Nordeste            158  0.49         699  2.17\n",
              "Norte                55  0.45         208  1.69\n",
              "Sudeste            2948  1.71        8639  5.03\n",
              "Sul                 329  0.77         919  2.14"
            ],
            "text/html": [
              "\n",
              "  <div id=\"df-e03195a3-1c7c-4481-b779-bb26af8ead89\">\n",
              "    <div class=\"colab-df-container\">\n",
              "      <div>\n",
              "<style scoped>\n",
              "    .dataframe tbody tr th:only-of-type {\n",
              "        vertical-align: middle;\n",
              "    }\n",
              "\n",
              "    .dataframe tbody tr th {\n",
              "        vertical-align: top;\n",
              "    }\n",
              "\n",
              "    .dataframe thead tr th {\n",
              "        text-align: left;\n",
              "    }\n",
              "\n",
              "    .dataframe thead tr:last-of-type th {\n",
              "        text-align: right;\n",
              "    }\n",
              "</style>\n",
              "<table border=\"1\" class=\"dataframe\">\n",
              "  <thead>\n",
              "    <tr>\n",
              "      <th></th>\n",
              "      <th colspan=\"2\" halign=\"left\">QT_ING_FEM</th>\n",
              "      <th colspan=\"2\" halign=\"left\">QT_ING_MASC</th>\n",
              "    </tr>\n",
              "    <tr>\n",
              "      <th></th>\n",
              "      <th>sum</th>\n",
              "      <th>mean</th>\n",
              "      <th>sum</th>\n",
              "      <th>mean</th>\n",
              "    </tr>\n",
              "    <tr>\n",
              "      <th>NO_REGIAO</th>\n",
              "      <th></th>\n",
              "      <th></th>\n",
              "      <th></th>\n",
              "      <th></th>\n",
              "    </tr>\n",
              "  </thead>\n",
              "  <tbody>\n",
              "    <tr>\n",
              "      <th>Centro-Oeste</th>\n",
              "      <td>148</td>\n",
              "      <td>0.99</td>\n",
              "      <td>490</td>\n",
              "      <td>3.29</td>\n",
              "    </tr>\n",
              "    <tr>\n",
              "      <th>Nordeste</th>\n",
              "      <td>158</td>\n",
              "      <td>0.49</td>\n",
              "      <td>699</td>\n",
              "      <td>2.17</td>\n",
              "    </tr>\n",
              "    <tr>\n",
              "      <th>Norte</th>\n",
              "      <td>55</td>\n",
              "      <td>0.45</td>\n",
              "      <td>208</td>\n",
              "      <td>1.69</td>\n",
              "    </tr>\n",
              "    <tr>\n",
              "      <th>Sudeste</th>\n",
              "      <td>2948</td>\n",
              "      <td>1.71</td>\n",
              "      <td>8639</td>\n",
              "      <td>5.03</td>\n",
              "    </tr>\n",
              "    <tr>\n",
              "      <th>Sul</th>\n",
              "      <td>329</td>\n",
              "      <td>0.77</td>\n",
              "      <td>919</td>\n",
              "      <td>2.14</td>\n",
              "    </tr>\n",
              "  </tbody>\n",
              "</table>\n",
              "</div>\n",
              "      <button class=\"colab-df-convert\" onclick=\"convertToInteractive('df-e03195a3-1c7c-4481-b779-bb26af8ead89')\"\n",
              "              title=\"Convert this dataframe to an interactive table.\"\n",
              "              style=\"display:none;\">\n",
              "        \n",
              "  <svg xmlns=\"http://www.w3.org/2000/svg\" height=\"24px\"viewBox=\"0 0 24 24\"\n",
              "       width=\"24px\">\n",
              "    <path d=\"M0 0h24v24H0V0z\" fill=\"none\"/>\n",
              "    <path d=\"M18.56 5.44l.94 2.06.94-2.06 2.06-.94-2.06-.94-.94-2.06-.94 2.06-2.06.94zm-11 1L8.5 8.5l.94-2.06 2.06-.94-2.06-.94L8.5 2.5l-.94 2.06-2.06.94zm10 10l.94 2.06.94-2.06 2.06-.94-2.06-.94-.94-2.06-.94 2.06-2.06.94z\"/><path d=\"M17.41 7.96l-1.37-1.37c-.4-.4-.92-.59-1.43-.59-.52 0-1.04.2-1.43.59L10.3 9.45l-7.72 7.72c-.78.78-.78 2.05 0 2.83L4 21.41c.39.39.9.59 1.41.59.51 0 1.02-.2 1.41-.59l7.78-7.78 2.81-2.81c.8-.78.8-2.07 0-2.86zM5.41 20L4 18.59l7.72-7.72 1.47 1.35L5.41 20z\"/>\n",
              "  </svg>\n",
              "      </button>\n",
              "      \n",
              "  <style>\n",
              "    .colab-df-container {\n",
              "      display:flex;\n",
              "      flex-wrap:wrap;\n",
              "      gap: 12px;\n",
              "    }\n",
              "\n",
              "    .colab-df-convert {\n",
              "      background-color: #E8F0FE;\n",
              "      border: none;\n",
              "      border-radius: 50%;\n",
              "      cursor: pointer;\n",
              "      display: none;\n",
              "      fill: #1967D2;\n",
              "      height: 32px;\n",
              "      padding: 0 0 0 0;\n",
              "      width: 32px;\n",
              "    }\n",
              "\n",
              "    .colab-df-convert:hover {\n",
              "      background-color: #E2EBFA;\n",
              "      box-shadow: 0px 1px 2px rgba(60, 64, 67, 0.3), 0px 1px 3px 1px rgba(60, 64, 67, 0.15);\n",
              "      fill: #174EA6;\n",
              "    }\n",
              "\n",
              "    [theme=dark] .colab-df-convert {\n",
              "      background-color: #3B4455;\n",
              "      fill: #D2E3FC;\n",
              "    }\n",
              "\n",
              "    [theme=dark] .colab-df-convert:hover {\n",
              "      background-color: #434B5C;\n",
              "      box-shadow: 0px 1px 3px 1px rgba(0, 0, 0, 0.15);\n",
              "      filter: drop-shadow(0px 1px 2px rgba(0, 0, 0, 0.3));\n",
              "      fill: #FFFFFF;\n",
              "    }\n",
              "  </style>\n",
              "\n",
              "      <script>\n",
              "        const buttonEl =\n",
              "          document.querySelector('#df-e03195a3-1c7c-4481-b779-bb26af8ead89 button.colab-df-convert');\n",
              "        buttonEl.style.display =\n",
              "          google.colab.kernel.accessAllowed ? 'block' : 'none';\n",
              "\n",
              "        async function convertToInteractive(key) {\n",
              "          const element = document.querySelector('#df-e03195a3-1c7c-4481-b779-bb26af8ead89');\n",
              "          const dataTable =\n",
              "            await google.colab.kernel.invokeFunction('convertToInteractive',\n",
              "                                                     [key], {});\n",
              "          if (!dataTable) return;\n",
              "\n",
              "          const docLinkHtml = 'Like what you see? Visit the ' +\n",
              "            '<a target=\"_blank\" href=https://colab.research.google.com/notebooks/data_table.ipynb>data table notebook</a>'\n",
              "            + ' to learn more about interactive tables.';\n",
              "          element.innerHTML = '';\n",
              "          dataTable['output_type'] = 'display_data';\n",
              "          await google.colab.output.renderOutput(dataTable, element);\n",
              "          const docLink = document.createElement('div');\n",
              "          docLink.innerHTML = docLinkHtml;\n",
              "          element.appendChild(docLink);\n",
              "        }\n",
              "      </script>\n",
              "    </div>\n",
              "  </div>\n",
              "  "
            ]
          },
          "metadata": {},
          "execution_count": 323
        }
      ]
    },
    {
      "cell_type": "markdown",
      "source": [
        "**II - Observando a quantidade do ingresso FEMININO por região e comparando seu crescimento em porcentagem em relação ao ano anterior**"
      ],
      "metadata": {
        "id": "R0YlRaQUsFAc"
      }
    },
    {
      "cell_type": "code",
      "source": [
        "analise_fem = analise_limpa.groupby(['NU_ANO_CENSO','NO_REGIAO'])['QT_ING_FEM'].sum()\n",
        "Fem = [analise_fem.filter(like='Centro-Oeste').diff()/50*100], [analise_fem.filter(like='Nordeste').diff()/51*100],[analise_fem.filter(like='Norte').diff()/17*100], [analise_fem.filter(like='Sudeste').diff()/1246*100], [analise_fem.filter(like='Sul').diff()/128*100]\n",
        "display(analise_fem, Fem)\n"
      ],
      "metadata": {
        "colab": {
          "base_uri": "https://localhost:8080/",
          "height": 503
        },
        "id": "G46AFtIWkjhJ",
        "outputId": "4bd9ec0d-eb9c-4508-c59f-ac7f061d7ac5"
      },
      "execution_count": null,
      "outputs": [
        {
          "output_type": "display_data",
          "data": {
            "text/plain": [
              "NU_ANO_CENSO  NO_REGIAO   \n",
              "2020          Centro-Oeste      50\n",
              "              Nordeste          51\n",
              "              Norte             17\n",
              "              Sudeste         1246\n",
              "              Sul              128\n",
              "2021          Centro-Oeste      98\n",
              "              Nordeste         107\n",
              "              Norte             38\n",
              "              Sudeste         1702\n",
              "              Sul              201\n",
              "Name: QT_ING_FEM, dtype: int64"
            ]
          },
          "metadata": {}
        },
        {
          "output_type": "display_data",
          "data": {
            "text/plain": [
              "([NU_ANO_CENSO  NO_REGIAO   \n",
              "  2020          Centro-Oeste     NaN\n",
              "  2021          Centro-Oeste    96.0\n",
              "  Name: QT_ING_FEM, dtype: float64], [NU_ANO_CENSO  NO_REGIAO\n",
              "  2020          Nordeste            NaN\n",
              "  2021          Nordeste     109.803922\n",
              "  Name: QT_ING_FEM, dtype: float64], [NU_ANO_CENSO  NO_REGIAO\n",
              "  2020          Norte               NaN\n",
              "  2021          Norte        123.529412\n",
              "  Name: QT_ING_FEM, dtype: float64], [NU_ANO_CENSO  NO_REGIAO\n",
              "  2020          Sudeste            NaN\n",
              "  2021          Sudeste      36.597111\n",
              "  Name: QT_ING_FEM, dtype: float64], [NU_ANO_CENSO  NO_REGIAO\n",
              "  2020          Sul               NaN\n",
              "  2021          Sul          57.03125\n",
              "  Name: QT_ING_FEM, dtype: float64])"
            ]
          },
          "metadata": {}
        }
      ]
    },
    {
      "cell_type": "markdown",
      "source": [
        "**III - Observando a quantidade do ingresso MASCULINO por região e comparando seu crescimento em porcentagem em relação ao ano anterior**"
      ],
      "metadata": {
        "id": "rdKpSSKEPNDO"
      }
    },
    {
      "cell_type": "code",
      "source": [
        "analise_masc = analise_limpa.groupby(['NU_ANO_CENSO','NO_REGIAO'])['QT_ING_MASC'].sum()\n",
        "Masc = [analise_masc.filter(like='Centro-Oeste').diff()/165*100], [analise_masc.filter(like='Nordeste').diff()/250*100],[analise_masc.filter(like='Norte').diff()/79*100], [analise_masc.filter(like='Sudeste').diff()/3943*100], [analise_masc.filter(like='Sul').diff()/398*100]\n",
        "display(analise_masc, Masc)\n"
      ],
      "metadata": {
        "colab": {
          "base_uri": "https://localhost:8080/",
          "height": 503
        },
        "id": "jyMRDwjllSYQ",
        "outputId": "a689f43a-e982-4373-bc85-5907d5531bcd"
      },
      "execution_count": null,
      "outputs": [
        {
          "output_type": "display_data",
          "data": {
            "text/plain": [
              "NU_ANO_CENSO  NO_REGIAO   \n",
              "2020          Centro-Oeste     165\n",
              "              Nordeste         250\n",
              "              Norte             79\n",
              "              Sudeste         3943\n",
              "              Sul              398\n",
              "2021          Centro-Oeste     325\n",
              "              Nordeste         449\n",
              "              Norte            129\n",
              "              Sudeste         4696\n",
              "              Sul              521\n",
              "Name: QT_ING_MASC, dtype: int64"
            ]
          },
          "metadata": {}
        },
        {
          "output_type": "display_data",
          "data": {
            "text/plain": [
              "([NU_ANO_CENSO  NO_REGIAO   \n",
              "  2020          Centro-Oeste          NaN\n",
              "  2021          Centro-Oeste    96.969697\n",
              "  Name: QT_ING_MASC, dtype: float64], [NU_ANO_CENSO  NO_REGIAO\n",
              "  2020          Nordeste      NaN\n",
              "  2021          Nordeste     79.6\n",
              "  Name: QT_ING_MASC, dtype: float64], [NU_ANO_CENSO  NO_REGIAO\n",
              "  2020          Norte              NaN\n",
              "  2021          Norte        63.291139\n",
              "  Name: QT_ING_MASC, dtype: float64], [NU_ANO_CENSO  NO_REGIAO\n",
              "  2020          Sudeste            NaN\n",
              "  2021          Sudeste      19.097134\n",
              "  Name: QT_ING_MASC, dtype: float64], [NU_ANO_CENSO  NO_REGIAO\n",
              "  2020          Sul                NaN\n",
              "  2021          Sul          30.904523\n",
              "  Name: QT_ING_MASC, dtype: float64])"
            ]
          },
          "metadata": {}
        }
      ]
    },
    {
      "cell_type": "markdown",
      "source": [
        "***VIZUALIZAÇÃO DOS DADOS***\n",
        "\n",
        "**Apresentando os resultados da análise**\n",
        "\n",
        "**I - Exibição do ingresso FEMININO por região**"
      ],
      "metadata": {
        "id": "geZaaj7QYjvK"
      }
    },
    {
      "cell_type": "code",
      "source": [
        "import matplotlib.pyplot as plt\n",
        "\n",
        "analise_conciliadafem = {\n",
        "                         \n",
        "    'REGIÃO': ['Centro-Oeste', 'Nordeste', 'Norte','Sudeste', 'Sul'],\n",
        "\n",
        "    'CRESCIMENTO FEMININO (%)': [96.00, 109.80, 123.52,36.59,57.03],}\n",
        "\n",
        "resultado_fem = pd.DataFrame(analise_conciliadafem)\n",
        "\n",
        "graficofem = resultado_fem[['CRESCIMENTO FEMININO (%)']].plot(figsize=(8,5), color = 'deeppink', kind='bar')\n",
        "graficofem.set_xticklabels(resultado_fem['REGIÃO'])\n",
        "\n",
        "resultado_fem.set_index(['REGIÃO'], inplace=True)\n",
        "\n",
        "print(resultado_fem) "
      ],
      "metadata": {
        "colab": {
          "base_uri": "https://localhost:8080/",
          "height": 498
        },
        "id": "TrOqvmASoCpK",
        "outputId": "fc818e87-1d77-45d5-90ff-9e5e8d323a6a"
      },
      "execution_count": null,
      "outputs": [
        {
          "output_type": "stream",
          "name": "stdout",
          "text": [
            "              CRESCIMENTO FEMININO (%)\n",
            "REGIÃO                                \n",
            "Centro-Oeste                     96.00\n",
            "Nordeste                        109.80\n",
            "Norte                           123.52\n",
            "Sudeste                          36.59\n",
            "Sul                              57.03\n"
          ]
        },
        {
          "output_type": "display_data",
          "data": {
            "text/plain": [
              "<Figure size 576x360 with 1 Axes>"
            ],
            "image/png": "[encoded data removed]"
          },
          "metadata": {
            "needs_background": "light"
          }
        }
      ]
    },
    {
      "cell_type": "markdown",
      "source": [
        "**II - Exibição do ingresso MASCULINO por região**"
      ],
      "metadata": {
        "id": "adBWFdq1_4pe"
      }
    },
    {
      "cell_type": "code",
      "source": [
        "analise_conciliadamasc = {\n",
        "                         \n",
        "    'REGIÃO': ['Centro-Oeste', 'Nordeste', 'Norte','Sudeste', 'Sul'],\n",
        "\n",
        "    'CRESCIMENTO MASCULINO (%)': [96.96, 79.60, 63.29,19.09,30.90],}\n",
        "\n",
        "resultado_masc = pd.DataFrame(analise_conciliadamasc)\n",
        "\n",
        "graficomasc = resultado_masc[['CRESCIMENTO MASCULINO (%)']].plot(figsize=(8,5), color = 'blue', kind='bar')\n",
        "graficomasc.set_xticklabels(resultado_masc['REGIÃO'])\n",
        "\n",
        "resultado_masc.set_index(['REGIÃO'], inplace=True)\n",
        "\n",
        "print(resultado_masc)"
      ],
      "metadata": {
        "colab": {
          "base_uri": "https://localhost:8080/",
          "height": 498
        },
        "id": "H5gIHGjnn91k",
        "outputId": "afe1957d-35c3-40f8-9343-72f3be0c87b9"
      },
      "execution_count": null,
      "outputs": [
        {
          "output_type": "stream",
          "name": "stdout",
          "text": [
            "              CRESCIMENTO MASCULINO (%)\n",
            "REGIÃO                                 \n",
            "Centro-Oeste                      96.96\n",
            "Nordeste                          79.60\n",
            "Norte                             63.29\n",
            "Sudeste                           19.09\n",
            "Sul                               30.90\n"
          ]
        },
        {
          "output_type": "display_data",
          "data": {
            "text/plain": [
              "<Figure size 576x360 with 1 Axes>"
            ],
            "image/png": "[encoded data removed]"
          },
          "metadata": {
            "needs_background": "light"
          }
        }
      ]
    },
    {
      "cell_type": "markdown",
      "source": [
        "**III - Exibição conciliada ingresso FEMININO e MANSCULINO por região**"
      ],
      "metadata": {
        "id": "tP3B0diTVO7Z"
      }
    },
    {
      "cell_type": "code",
      "source": [
        "conciliado = {\n",
        "                         \n",
        "    'REGIÃO': ['Centro-Oeste', 'Nordeste', 'Norte','Sudeste', 'Sul'],\n",
        "\n",
        "    'CRESCIMENTO FEMININO (%)': [96.00, 109.80, 123.52,36.59,57.03],\n",
        "\n",
        "    'CRESCIMENTO MASCULINO (%)': [96.96, 79.60, 63.29,19.09,30.90],}\n",
        "\n",
        "analise_final = pd.DataFrame(conciliado)\n",
        "\n",
        "graficoconc = analise_final[['CRESCIMENTO FEMININO (%)','CRESCIMENTO MASCULINO (%)']].plot(figsize=(8,5), color = ['deeppink', 'blue'], kind='bar')\n",
        "graficoconc.set_xticklabels(analise_final['REGIÃO'])\n",
        "\n",
        "analise_final.set_index(['REGIÃO'], inplace=True)\n",
        "\n",
        "print(analise_final)\n"
      ],
      "metadata": {
        "colab": {
          "base_uri": "https://localhost:8080/",
          "height": 498
        },
        "id": "VV0Qqr5oSIip",
        "outputId": "76ea85e8-8dda-464d-eb58-699a77fb4dd4"
      },
      "execution_count": null,
      "outputs": [
        {
          "output_type": "stream",
          "name": "stdout",
          "text": [
            "              CRESCIMENTO FEMININO (%)  CRESCIMENTO MASCULINO (%)\n",
            "REGIÃO                                                           \n",
            "Centro-Oeste                     96.00                      96.96\n",
            "Nordeste                        109.80                      79.60\n",
            "Norte                           123.52                      63.29\n",
            "Sudeste                          36.59                      19.09\n",
            "Sul                              57.03                      30.90\n"
          ]
        },
        {
          "output_type": "display_data",
          "data": {
            "text/plain": [
              "<Figure size 576x360 with 1 Axes>"
            ],
            "image/png": "[encoded data removed]"
          },
          "metadata": {
            "needs_background": "light"
          }
        }
      ]
    },
    {
      "cell_type": "markdown",
      "source": [
        "**IV - Exibição da MÉDIA entre o crescimento das duas variáveis analisadas no período 2020-2021**"
      ],
      "metadata": {
        "id": "yShW6gtwdgj3"
      }
    },
    {
      "cell_type": "code",
      "source": [
        "media_fem = resultado_fem['CRESCIMENTO FEMININO (%)'].mean().round(2)\n",
        "media_masc = resultado_masc['CRESCIMENTO MASCULINO (%)'].mean().round(2)\n",
        "\n",
        "analise_mdfinal = pd.DataFrame([media_fem, media_masc])\n",
        "analise_mdfinal.rename(columns={0: 'MEDIA(%)'}, inplace = True)\n",
        "analise_mdfinal.rename(index={0:'FEMININO', 1:'MASCULINO'} , inplace = True)\n",
        "print(analise_mdfinal)\n",
        "\n",
        "graficomed = analise_mdfinal['MEDIA(%)'].plot(figsize=(8,5), color = ['pink', 'skyblue'], kind='bar')\n"
      ],
      "metadata": {
        "colab": {
          "base_uri": "https://localhost:8080/",
          "height": 421
        },
        "id": "Jnw43LZpV3jR",
        "outputId": "79bf8022-37ed-47d9-8ef7-79511491e466"
      },
      "execution_count": 332,
      "outputs": [
        {
          "output_type": "stream",
          "name": "stdout",
          "text": [
            "           MEDIA(%)\n",
            "FEMININO      84.59\n",
            "MASCULINO     57.97\n"
          ]
        },
        {
          "output_type": "display_data",
          "data": {
            "text/plain": [
              "<Figure size 576x360 with 1 Axes>"
            ],
            "image/png": "[encoded data removed]"
          },
          "metadata": {
            "needs_background": "light"
          }
        }
      ]
    },
    {
      "cell_type": "markdown",
      "source": [
        "**V - Comentários finais dos Resultado da Análise**"
      ],
      "metadata": {
        "id": "Mbwd412QfaLl"
      }
    },
    {
      "cell_type": "code",
      "source": [
        "print('A média do crescimento do ingresso FEMININO em ensino superior no curso de Ciências de Dados no ano de 2021 foi de:',media_fem, '%')\n",
        "print('A média do crescimento do ingresso MASCULINO em ensino superior no curso de Ciências de Dados no ano de 2021 foi de:',media_masc, '%')\n",
        "print('Em 2021 o ingresso foi de: {:.2f}'.format(media_fem-media_masc),'% maior para as mulheres na aréa de dados')"
      ],
      "metadata": {
        "colab": {
          "base_uri": "https://localhost:8080/"
        },
        "id": "25EQ1K7sd7bF",
        "outputId": "66e948cb-e439-4df3-90db-bb4fd2c7086c"
      },
      "execution_count": 333,
      "outputs": [
        {
          "output_type": "stream",
          "name": "stdout",
          "text": [
            "A média do crescimento do ingresso FEMININO em ensino superior no curso de Ciências de Dados no ano de 2021 foi de: 84.59 %\n",
            "A média do crescimento do ingresso MASCULINO em ensino superior no curso de Ciências de Dados no ano de 2021 foi de: 57.97 %\n",
            "Em 2021 o ingresso foi de: 26.62 % maior para as mulheres na aréa de dados\n"
          ]
        }
      ]
    }
  ]
}